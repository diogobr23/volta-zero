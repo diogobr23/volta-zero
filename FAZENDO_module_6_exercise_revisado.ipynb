{
 "cells": [
  {
   "cell_type": "markdown",
   "metadata": {
    "id": "KJqp9AANOCtf"
   },
   "source": [
    "<img src=\"https://raw.githubusercontent.com/andre-marcos-perez/ebac-course-utils/main/media/logo/newebac_logo_black_half.png\" alt=\"ebac-logo\">\n",
    "\n",
    "---\n",
    "\n",
    "# **Módulo** | Python: Programação Orientada a Objetos\n",
    "Caderno de **Exercícios**<br>\n",
    "Professor [André Perez](https://www.linkedin.com/in/andremarcosperez/)\n",
    "\n",
    "---"
   ]
  },
  {
   "cell_type": "markdown",
   "metadata": {
    "id": "d9jDtUbDOE1-"
   },
   "source": [
    "# **Tópicos**\n",
    "\n",
    "<ol type=\"1\">\n",
    "  <li>Um pouco de teoria;</li>\n",
    "  <li>Classes;</li>\n",
    "  <li>Objetos;</li>\n",
    "  <li>Herança.</li>\n",
    "</ol>"
   ]
  },
  {
   "cell_type": "markdown",
   "metadata": {
    "id": "SmoHgt-lwkpD"
   },
   "source": [
    "---"
   ]
  },
  {
   "cell_type": "markdown",
   "metadata": {
    "id": "GABI6OW8OfQ2"
   },
   "source": [
    "# **Exercícios**"
   ]
  },
  {
   "cell_type": "markdown",
   "metadata": {
    "id": "syVczIAwGO3A"
   },
   "source": [
    "## 0\\. Preparação do ambiente"
   ]
  },
  {
   "cell_type": "markdown",
   "metadata": {
    "id": "2X3TrxdzGO3C"
   },
   "source": [
    "Neste exercício vamos trabalhar com os arquivos de csv e texto definidos abaixo. Execute cada uma das células de código para escrever os arquivos na sua máquina virtual."
   ]
  },
  {
   "cell_type": "markdown",
   "metadata": {
    "id": "u0uFuhRSq_hQ"
   },
   "source": [
    "* **carros.csv**: arquivo csv com informações sobre carros (venda, manutenção, portas, etc.)."
   ]
  },
  {
   "cell_type": "code",
   "execution_count": 45,
   "metadata": {
    "colab": {
     "base_uri": "https://localhost:8080/"
    },
    "id": "daMf-xaXqKs2",
    "outputId": "834a2e7e-3a2b-4f8c-aadf-e0de63aa50e1"
   },
   "outputs": [
    {
     "name": "stdout",
     "output_type": "stream",
     "text": [
      "Overwriting carros.csv\n"
     ]
    }
   ],
   "source": [
    "%%writefile carros.csv\n",
    "id,valor_venda,valor_manutencao,portas,pessoas,porta_malas\n",
    "1,vhigh,med,2,2,small\n",
    "2,med,vhigh,2,2,small\n",
    "3,low,vhigh,2,2,small\n",
    "4,low,high,2,2,small\n",
    "5,low,high,2,2,small\n",
    "6,low,high,4,4,big\n",
    "7,low,high,4,4,big\n",
    "8,low,med,2,2,small\n",
    "9,low,med,2,2,small\n",
    "10,low,med,2,2,small\n",
    "11,low,med,4,4,big\n",
    "12,low,low,2,2,small\n",
    "13,low,low,4,4,small\n",
    "14,low,low,4,4,med"
   ]
  },
  {
   "cell_type": "markdown",
   "metadata": {
    "id": "X0Z2PhbCrTz1"
   },
   "source": [
    "* **musica.txt**: arquivo texto com a letra da música Roda Viva do Chico Buarque."
   ]
  },
  {
   "cell_type": "code",
   "execution_count": 46,
   "metadata": {
    "colab": {
     "base_uri": "https://localhost:8080/"
    },
    "id": "m7Ge2rggrU73",
    "outputId": "20c92a04-477f-46d3-eff7-e48cace6425d"
   },
   "outputs": [
    {
     "name": "stdout",
     "output_type": "stream",
     "text": [
      "Overwriting musica.txt\n"
     ]
    }
   ],
   "source": [
    "%%writefile musica.txt\n",
    "Roda Viva\n",
    "Chico Buarque\n",
    "\n",
    "Tem dias que a gente se sente\n",
    "Como quem partiu ou morreu\n",
    "A gente estancou de repente\n",
    "Ou foi o mundo então que cresceu\n",
    "A gente quer ter voz ativa\n",
    "No nosso destino mandar\n",
    "Mas eis que chega a roda viva\n",
    "E carrega o destino pra lá\n",
    "\n",
    "Roda mundo, roda-gigante\n",
    "Roda moinho, roda pião\n",
    "\n",
    "O tempo rodou num instante\n",
    "Nas voltas do meu coração\n",
    "A gente vai contra a corrente\n",
    "Até não poder resistir\n",
    "Na volta do barco é que sente\n",
    "O quanto deixou de cumprir\n",
    "Faz tempo que a gente cultiva\n",
    "A mais linda roseira que há\n",
    "Mas eis que chega a roda viva\n",
    "E carrega a roseira pra lá\n",
    "\n",
    "Roda mundo, roda-gigante\n",
    "Roda moinho, roda pião"
   ]
  },
  {
   "cell_type": "markdown",
   "metadata": {
    "id": "HV69LMAVGO3J"
   },
   "source": [
    "---"
   ]
  },
  {
   "cell_type": "markdown",
   "metadata": {
    "id": "U4S19ZvHsPcE"
   },
   "source": [
    "## 1\\. Classe para ler arquivos de texto"
   ]
  },
  {
   "cell_type": "markdown",
   "metadata": {
    "id": "HQrKGtoMGjf6"
   },
   "source": [
    "Crie a classe `ArquivoTexto`. Ela deve conter os seguintes atributos:\n",
    "\n",
    "*   `self.arquivo`: Atributo do tipo `str` com o nome do arquivo;\n",
    "*   `self.conteudo`: Atributo do tipo `list` onde cada elemento é uma linha do arquivo;\n",
    "\n",
    "A classe também deve conter o seguinte método:\n",
    "\n",
    "*   `self.extrair_conteudo`: Método que realiza a leitura do arquivo e retorna o conteúdo.\n",
    "\n",
    "*   `self.extrair_linha`: Método que recebe como parâmetro o número da linha e retorna a linha do conteúdo.\n"
   ]
  },
  {
   "cell_type": "code",
   "execution_count": 53,
   "metadata": {
    "id": "9QFsOQ9ZGXUC"
   },
   "outputs": [],
   "source": [
    "class ArquivoTexto(object):\n",
    "\n",
    "    def __init__(self, arquivo: str):\n",
    "      self.arquivo = arquivo\n",
    "      self.conteudo = self.extrair_conteudo()\n",
    "\n",
    "    def extrair_conteudo(self):\n",
    "      lista_linhas = []\n",
    "      with open(self.arquivo, mode='r') as arquivo:\n",
    "        linha = arquivo.readline()\n",
    "        while linha:\n",
    "          lista_linhas.append(linha)\n",
    "          linha = arquivo.readline()\n",
    "      return lista_linhas\n",
    "\n",
    "    def extrair_linha(self, num_linha):\n",
    "\n",
    "        if num_linha < 1 or num_linha > len(self.conteudo):\n",
    "\n",
    "            return None\n",
    "\n",
    "        return self.conteudo[num_linha - 1].strip()\n",
    "    \n"
   ]
  },
  {
   "cell_type": "markdown",
   "metadata": {
    "id": "866OgsyHHw2M"
   },
   "source": [
    "Utilize o código abaixo para testar sua classe."
   ]
  },
  {
   "cell_type": "code",
   "execution_count": 56,
   "metadata": {
    "id": "_HV_CE7CH8LO"
   },
   "outputs": [
    {
     "name": "stdout",
     "output_type": "stream",
     "text": [
      "Roda Viva\n",
      "Mas eis que chega a roda viva\n"
     ]
    }
   ],
   "source": [
    "arquivo_texto = ArquivoTexto(arquivo='musica.txt')\n",
    "\n",
    "num_linha = 1\n",
    "print(arquivo_texto.extrair_linha(num_linha=num_linha)) # Roda Viva\n",
    "\n",
    "num_linha = 10\n",
    "print(arquivo_texto.extrair_linha(num_linha=num_linha)) # Mas eis que chega a roda viva"
   ]
  },
  {
   "cell_type": "markdown",
   "metadata": {
    "id": "zMN1Q3jdwoJm"
   },
   "source": [
    "---"
   ]
  },
  {
   "cell_type": "markdown",
   "metadata": {
    "id": "aQ8euzThIlLl"
   },
   "source": [
    "## 2\\. Classe para ler arquivos de csv"
   ]
  },
  {
   "cell_type": "markdown",
   "metadata": {
    "id": "EMWhvKAWIlL0"
   },
   "source": [
    "Crie a classe `ArquivoCSV`. Ela deve extender (herdar) a classe `ArquivoTexto` para reaproveitar os seus atributos (`self.arquivo` e `self.conteudo`). Além disso, adicione o seguinte atributo:\n",
    "\n",
    "*   `self.colunas`: Atributo do tipo `list` onde os elementos são os nome das colunas;\n",
    "\n",
    "A classe também deve conter o seguinte método:\n",
    "\n",
    "*   `self.extrair_nome_colunas`: Método que retorna o nome das colunas do arquivo.\n",
    "\n",
    "\n",
    "*   `extrair_coluna`: Método que recebe como parâmetro o indice da coluna e retorna o valor em questão."
   ]
  },
  {
   "cell_type": "code",
   "execution_count": 57,
   "metadata": {
    "id": "2r3mfEyYIlL0"
   },
   "outputs": [],
   "source": [
    "class ArquivoCSV(ArquivoTexto):\n",
    "    def __init__(self, arquivo: str):\n",
    "        super().__init__(arquivo)\n",
    "        self.colunas = self.extrair_nome_colunas()\n",
    "\n",
    "    def extrair_nome_colunas(self):\n",
    "        if not self.conteudo:\n",
    "            return []\n",
    "        return self.conteudo[0].strip().split(',')\n",
    "\n",
    "    def extrair_coluna(self, indice_coluna):\n",
    "        if not self.conteudo:\n",
    "            return None\n",
    "        if 0 <= indice_coluna < len(self.colunas):\n",
    "            coluna_desejada = [linha.strip().split(',')[indice_coluna] for linha in self.conteudo]\n",
    "            return coluna_desejada\n",
    "        else:\n",
    "            print(\"Índice de coluna inválido.\")\n",
    "            return None"
   ]
  },
  {
   "cell_type": "markdown",
   "metadata": {
    "id": "jQm_hBETIlL1"
   },
   "source": [
    "Utilize o código abaixo para testar sua classe."
   ]
  },
  {
   "cell_type": "code",
   "execution_count": 59,
   "metadata": {
    "id": "GKSf1YbcIlL1"
   },
   "outputs": [
    {
     "name": "stdout",
     "output_type": "stream",
     "text": [
      "id,valor_venda,valor_manutencao,portas,pessoas,porta_malas\n",
      "['id', 'valor_venda', 'valor_manutencao', 'portas', 'pessoas', 'porta_malas']\n",
      "9,low,med,2,2,small\n",
      "['valor_manutencao', 'med', 'vhigh', 'vhigh', 'high', 'high', 'high', 'high', 'med', 'med', 'med', 'med', 'low', 'low', 'low']\n"
     ]
    }
   ],
   "source": [
    "arquivo_csv = ArquivoCSV(arquivo='carros.csv')\n",
    "\n",
    "num_linha = 1\n",
    "print(arquivo_csv.extrair_linha(num_linha=num_linha)) # id,valor_venda,valor_manutencao,portas,pessoas,porta_malas\n",
    "\n",
    "print(arquivo_csv.colunas) # ['id', 'valor_venda', 'valor_manutencao', 'portas', 'pessoas', 'porta_malas']\n",
    "\n",
    "num_linha = 10\n",
    "print(arquivo_csv.extrair_linha(num_linha=num_linha)) # 9,low,med,2,2,small\n",
    "\n",
    "\n",
    "indice_coluna = 2\n",
    "print(arquivo_csv.extrair_coluna(indice_coluna=indice_coluna)) # ['med', 'vhigh', 'vhigh', 'high', 'high', 'high', 'high', 'med', 'med', 'med', 'med', 'low', 'low', 'low']"
   ]
  },
  {
   "cell_type": "markdown",
   "metadata": {
    "id": "78xH4bWUIlL2"
   },
   "source": [
    "---"
   ]
  },
  {
   "cell_type": "markdown",
   "metadata": {
    "id": "NJbvryYdxEzP"
   },
   "source": [
    "# Exercício bônus"
   ]
  },
  {
   "cell_type": "markdown",
   "metadata": {
    "id": "_V9ct8RDxH_Q"
   },
   "source": [
    "1. Classe para ler o arquivo csv\n",
    "\n",
    "Crie a classe `ArquivoCSV2`. Ela deve extender (herdar) a classe `ArquivoTexto` para reaproveitar o seu atributos `self.arquivo` e o método `self.extrair_linha`.\n",
    "\n",
    "\n",
    "A classe também deve conter o seguinte método:\n",
    "\n",
    "*   `self.extrair_coluna_da_linha`: Método que recebe como parâmetro o numero da linha e o indice da coluna e retorna o valor em questão."
   ]
  },
  {
   "cell_type": "code",
   "execution_count": 71,
   "metadata": {
    "id": "Z6I7Jix4xFq9"
   },
   "outputs": [],
   "source": [
    "class ArquivoCSV2(ArquivoTexto):\n",
    "    def __init__(self, arquivo: str):\n",
    "        super().__init__(arquivo)\n",
    "\n",
    "    def extrair_coluna_da_linha(self, num_linha: int, indice_coluna: int):\n",
    "        linha_desejada = self.extrair_linha(num_linha)\n",
    "        if linha_desejada:\n",
    "            colunas = linha_desejada.split(',')\n",
    "            if 0 <= indice_coluna < len(colunas):\n",
    "                return colunas[indice_coluna]\n",
    "            else:\n",
    "                print(\"Índice de coluna inválido.\")\n",
    "                return None\n",
    "        else:\n",
    "            print(\"Número de linha inválido.\")\n",
    "            return None"
   ]
  },
  {
   "cell_type": "code",
   "execution_count": 72,
   "metadata": {
    "id": "g5qO9O2Xx62p"
   },
   "outputs": [
    {
     "name": "stdout",
     "output_type": "stream",
     "text": [
      "med\n"
     ]
    }
   ],
   "source": [
    "arquivo_csv2 = ArquivoCSV2(arquivo='carros.csv')\n",
    "\n",
    "\n",
    "num_linha = 10\n",
    "indice_coluna = 2\n",
    "print(arquivo_csv2.extrair_coluna_da_linha(num_linha=num_linha, indice_coluna=indice_coluna)) # low"
   ]
  },
  {
   "cell_type": "code",
   "execution_count": null,
   "metadata": {
    "id": "JK_ar5oax9aU"
   },
   "outputs": [],
   "source": []
  }
 ],
 "metadata": {
  "colab": {
   "provenance": [],
   "toc_visible": true
  },
  "kernelspec": {
   "display_name": "Python 3 (ipykernel)",
   "language": "python",
   "name": "python3"
  },
  "language_info": {
   "codemirror_mode": {
    "name": "ipython",
    "version": 3
   },
   "file_extension": ".py",
   "mimetype": "text/x-python",
   "name": "python",
   "nbconvert_exporter": "python",
   "pygments_lexer": "ipython3",
   "version": "3.11.3"
  }
 },
 "nbformat": 4,
 "nbformat_minor": 1
}
