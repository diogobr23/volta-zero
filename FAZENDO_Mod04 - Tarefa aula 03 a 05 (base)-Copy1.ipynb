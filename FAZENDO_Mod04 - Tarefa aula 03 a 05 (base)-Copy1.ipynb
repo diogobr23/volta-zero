{
 "cells": [
  {
   "cell_type": "markdown",
   "metadata": {},
   "source": [
    "## Exercício 1: Vestibular\n",
    "\n",
    "Considere que a os dados gerados na célula abaixo contêm o número de acertos de 100 alunos em um vestibular para um curso de exatas, divididas pelos respectivos assuntos. Considere que cada assunto possui um número de questões conforme a tabela abaixo:\n",
    "\n",
    "| assunto | número de questões |\n",
    "|:---:|:---:|\n",
    "| Matemática | 24 |\n",
    "| Português | 18 |\n",
    "| Geografia | 8 |\n",
    "| Inglês | 8 |\n",
    "| História | 8 |\n",
    "| Física | 12 |\n",
    "| Química | 12 |\n",
    "\n",
    "Usando os comandos de operações com DataFrames que você aprendeu na Aula 03, calcule:\n",
    "\n",
    "1. (operações com escalar) Calcule o percentual de acerto dos alunos por assunto.  \n",
    "2. (operações entre *DataFrames) Calcule o total de acertos de cada aluno.  \n",
    "3. Calcule o porcentual geral de cada aluno.  \n",
    "4. Suponha que a nota de corte para a segunda fase seja 45. Quantos alunos tiveram nota maior que 45?  "
   ]
  },
  {
   "cell_type": "code",
   "execution_count": 8,
   "metadata": {},
   "outputs": [],
   "source": [
    "import pandas as pd\n",
    "import numpy as np"
   ]
  },
  {
   "cell_type": "code",
   "execution_count": 11,
   "metadata": {},
   "outputs": [],
   "source": [
    "# 1) Seu código aqui\n",
    "# criação dos dataframes com valores randômicos separados por matéria\n",
    "df_mat = pd.DataFrame(np.random.randint(24, size=(100,1)), columns=['Qtde_acertos'])\n",
    "df_por = pd.DataFrame(np.random.randint(18, size=(100,1)), columns=['Qtde_acertos'])\n",
    "df_geo = pd.DataFrame(np.random.randint(8, size=(100,1)), columns=['Qtde_acertos'])\n",
    "df_ing = pd.DataFrame(np.random.randint(8, size=(100,1)), columns=['Qtde_acertos'])\n",
    "df_his = pd.DataFrame(np.random.randint(8, size=(100,1)), columns=['Qtde_acertos'])\n",
    "df_fis = pd.DataFrame(np.random.randint(12, size=(100,1)), columns=['Qtde_acertos'])\n",
    "df_qui = pd.DataFrame(np.random.randint(12, size=(100,1)), columns=['Qtde_acertos'])\n",
    "\n",
    "# calculando o percentual de acerto\n",
    "pc_mat = df_mat/24\n",
    "pc_por = df_por/18\n",
    "pc_geo = df_geo/8\n",
    "pc_ing = df_ing/8\n",
    "pc_his = df_his/8\n",
    "pc_fis = df_fis/12\n",
    "pc_qui = df_qui/12\n",
    "\n"
   ]
  },
  {
   "cell_type": "code",
   "execution_count": 12,
   "metadata": {},
   "outputs": [
    {
     "data": {
      "text/html": [
       "<div>\n",
       "<style scoped>\n",
       "    .dataframe tbody tr th:only-of-type {\n",
       "        vertical-align: middle;\n",
       "    }\n",
       "\n",
       "    .dataframe tbody tr th {\n",
       "        vertical-align: top;\n",
       "    }\n",
       "\n",
       "    .dataframe thead th {\n",
       "        text-align: right;\n",
       "    }\n",
       "</style>\n",
       "<table border=\"1\" class=\"dataframe\">\n",
       "  <thead>\n",
       "    <tr style=\"text-align: right;\">\n",
       "      <th></th>\n",
       "      <th>Qtde_acertos</th>\n",
       "    </tr>\n",
       "  </thead>\n",
       "  <tbody>\n",
       "    <tr>\n",
       "      <th>0</th>\n",
       "      <td>52</td>\n",
       "    </tr>\n",
       "    <tr>\n",
       "      <th>1</th>\n",
       "      <td>49</td>\n",
       "    </tr>\n",
       "    <tr>\n",
       "      <th>2</th>\n",
       "      <td>47</td>\n",
       "    </tr>\n",
       "    <tr>\n",
       "      <th>3</th>\n",
       "      <td>62</td>\n",
       "    </tr>\n",
       "    <tr>\n",
       "      <th>4</th>\n",
       "      <td>37</td>\n",
       "    </tr>\n",
       "    <tr>\n",
       "      <th>...</th>\n",
       "      <td>...</td>\n",
       "    </tr>\n",
       "    <tr>\n",
       "      <th>95</th>\n",
       "      <td>57</td>\n",
       "    </tr>\n",
       "    <tr>\n",
       "      <th>96</th>\n",
       "      <td>25</td>\n",
       "    </tr>\n",
       "    <tr>\n",
       "      <th>97</th>\n",
       "      <td>37</td>\n",
       "    </tr>\n",
       "    <tr>\n",
       "      <th>98</th>\n",
       "      <td>35</td>\n",
       "    </tr>\n",
       "    <tr>\n",
       "      <th>99</th>\n",
       "      <td>32</td>\n",
       "    </tr>\n",
       "  </tbody>\n",
       "</table>\n",
       "<p>100 rows × 1 columns</p>\n",
       "</div>"
      ],
      "text/plain": [
       "    Qtde_acertos\n",
       "0             52\n",
       "1             49\n",
       "2             47\n",
       "3             62\n",
       "4             37\n",
       "..           ...\n",
       "95            57\n",
       "96            25\n",
       "97            37\n",
       "98            35\n",
       "99            32\n",
       "\n",
       "[100 rows x 1 columns]"
      ]
     },
     "execution_count": 12,
     "metadata": {},
     "output_type": "execute_result"
    }
   ],
   "source": [
    "# 2) Seu código aqui\n",
    "# somando as notas de cada aluno\n",
    "total = df_mat + df_por + df_geo + df_ing + df_his + df_fis + df_qui\n",
    "total\n"
   ]
  },
  {
   "cell_type": "code",
   "execution_count": 13,
   "metadata": {},
   "outputs": [
    {
     "data": {
      "text/html": [
       "<div>\n",
       "<style scoped>\n",
       "    .dataframe tbody tr th:only-of-type {\n",
       "        vertical-align: middle;\n",
       "    }\n",
       "\n",
       "    .dataframe tbody tr th {\n",
       "        vertical-align: top;\n",
       "    }\n",
       "\n",
       "    .dataframe thead th {\n",
       "        text-align: right;\n",
       "    }\n",
       "</style>\n",
       "<table border=\"1\" class=\"dataframe\">\n",
       "  <thead>\n",
       "    <tr style=\"text-align: right;\">\n",
       "      <th></th>\n",
       "      <th>Qtde_acertos</th>\n",
       "    </tr>\n",
       "  </thead>\n",
       "  <tbody>\n",
       "    <tr>\n",
       "      <th>0</th>\n",
       "      <td>0.577778</td>\n",
       "    </tr>\n",
       "    <tr>\n",
       "      <th>1</th>\n",
       "      <td>0.544444</td>\n",
       "    </tr>\n",
       "    <tr>\n",
       "      <th>2</th>\n",
       "      <td>0.522222</td>\n",
       "    </tr>\n",
       "    <tr>\n",
       "      <th>3</th>\n",
       "      <td>0.688889</td>\n",
       "    </tr>\n",
       "    <tr>\n",
       "      <th>4</th>\n",
       "      <td>0.411111</td>\n",
       "    </tr>\n",
       "    <tr>\n",
       "      <th>...</th>\n",
       "      <td>...</td>\n",
       "    </tr>\n",
       "    <tr>\n",
       "      <th>95</th>\n",
       "      <td>0.633333</td>\n",
       "    </tr>\n",
       "    <tr>\n",
       "      <th>96</th>\n",
       "      <td>0.277778</td>\n",
       "    </tr>\n",
       "    <tr>\n",
       "      <th>97</th>\n",
       "      <td>0.411111</td>\n",
       "    </tr>\n",
       "    <tr>\n",
       "      <th>98</th>\n",
       "      <td>0.388889</td>\n",
       "    </tr>\n",
       "    <tr>\n",
       "      <th>99</th>\n",
       "      <td>0.355556</td>\n",
       "    </tr>\n",
       "  </tbody>\n",
       "</table>\n",
       "<p>100 rows × 1 columns</p>\n",
       "</div>"
      ],
      "text/plain": [
       "    Qtde_acertos\n",
       "0       0.577778\n",
       "1       0.544444\n",
       "2       0.522222\n",
       "3       0.688889\n",
       "4       0.411111\n",
       "..           ...\n",
       "95      0.633333\n",
       "96      0.277778\n",
       "97      0.411111\n",
       "98      0.388889\n",
       "99      0.355556\n",
       "\n",
       "[100 rows x 1 columns]"
      ]
     },
     "execution_count": 13,
     "metadata": {},
     "output_type": "execute_result"
    }
   ],
   "source": [
    "# 3) Seu código aqui\n",
    "# calculando o percentual total\n",
    "pc_total = total/90\n",
    "pc_total"
   ]
  },
  {
   "cell_type": "code",
   "execution_count": 22,
   "metadata": {},
   "outputs": [
    {
     "data": {
      "text/plain": [
       "Qtde_acertos    30\n",
       "dtype: int64"
      ]
     },
     "execution_count": 22,
     "metadata": {},
     "output_type": "execute_result"
    }
   ],
   "source": [
    "# 4) Seu código aqui\n",
    "aprovados = (total > 45).sum()\n",
    "aprovados\n"
   ]
  },
  {
   "cell_type": "markdown",
   "metadata": {},
   "source": [
    "## 2) Vestibular II\n",
    "\n",
    "Ainda sobre o mesmo banco de dados:\n",
    "\n",
    "1. Neste vestibular, quem 'zera' em matemática, física ou química está desqualificado. Monte um novo *DataFrame* com os alunos desqualificados por este critério.\n",
    "2. Quantos são esses alunos?\n",
    "3. Qual a média desses alunos em história e geografia?\n",
    "4. Monte um *DataFrame* com os alunos que passaram para a segunda fase. Repare que estes alunos não podem ter sido desqualificados."
   ]
  },
  {
   "cell_type": "code",
   "execution_count": 29,
   "metadata": {},
   "outputs": [
    {
     "data": {
      "text/html": [
       "<div>\n",
       "<style scoped>\n",
       "    .dataframe tbody tr th:only-of-type {\n",
       "        vertical-align: middle;\n",
       "    }\n",
       "\n",
       "    .dataframe tbody tr th {\n",
       "        vertical-align: top;\n",
       "    }\n",
       "\n",
       "    .dataframe thead th {\n",
       "        text-align: right;\n",
       "    }\n",
       "</style>\n",
       "<table border=\"1\" class=\"dataframe\">\n",
       "  <thead>\n",
       "    <tr style=\"text-align: right;\">\n",
       "      <th></th>\n",
       "      <th>Qtde_acertos</th>\n",
       "    </tr>\n",
       "  </thead>\n",
       "  <tbody>\n",
       "    <tr>\n",
       "      <th>5</th>\n",
       "      <td>24</td>\n",
       "    </tr>\n",
       "    <tr>\n",
       "      <th>8</th>\n",
       "      <td>25</td>\n",
       "    </tr>\n",
       "    <tr>\n",
       "      <th>9</th>\n",
       "      <td>20</td>\n",
       "    </tr>\n",
       "    <tr>\n",
       "      <th>12</th>\n",
       "      <td>31</td>\n",
       "    </tr>\n",
       "    <tr>\n",
       "      <th>15</th>\n",
       "      <td>40</td>\n",
       "    </tr>\n",
       "    <tr>\n",
       "      <th>17</th>\n",
       "      <td>27</td>\n",
       "    </tr>\n",
       "    <tr>\n",
       "      <th>18</th>\n",
       "      <td>25</td>\n",
       "    </tr>\n",
       "    <tr>\n",
       "      <th>20</th>\n",
       "      <td>48</td>\n",
       "    </tr>\n",
       "    <tr>\n",
       "      <th>21</th>\n",
       "      <td>54</td>\n",
       "    </tr>\n",
       "    <tr>\n",
       "      <th>22</th>\n",
       "      <td>54</td>\n",
       "    </tr>\n",
       "    <tr>\n",
       "      <th>28</th>\n",
       "      <td>16</td>\n",
       "    </tr>\n",
       "    <tr>\n",
       "      <th>29</th>\n",
       "      <td>34</td>\n",
       "    </tr>\n",
       "    <tr>\n",
       "      <th>35</th>\n",
       "      <td>41</td>\n",
       "    </tr>\n",
       "    <tr>\n",
       "      <th>39</th>\n",
       "      <td>41</td>\n",
       "    </tr>\n",
       "    <tr>\n",
       "      <th>40</th>\n",
       "      <td>34</td>\n",
       "    </tr>\n",
       "    <tr>\n",
       "      <th>69</th>\n",
       "      <td>31</td>\n",
       "    </tr>\n",
       "    <tr>\n",
       "      <th>72</th>\n",
       "      <td>19</td>\n",
       "    </tr>\n",
       "    <tr>\n",
       "      <th>73</th>\n",
       "      <td>41</td>\n",
       "    </tr>\n",
       "    <tr>\n",
       "      <th>74</th>\n",
       "      <td>43</td>\n",
       "    </tr>\n",
       "    <tr>\n",
       "      <th>83</th>\n",
       "      <td>26</td>\n",
       "    </tr>\n",
       "    <tr>\n",
       "      <th>84</th>\n",
       "      <td>45</td>\n",
       "    </tr>\n",
       "    <tr>\n",
       "      <th>87</th>\n",
       "      <td>40</td>\n",
       "    </tr>\n",
       "    <tr>\n",
       "      <th>92</th>\n",
       "      <td>41</td>\n",
       "    </tr>\n",
       "    <tr>\n",
       "      <th>94</th>\n",
       "      <td>31</td>\n",
       "    </tr>\n",
       "    <tr>\n",
       "      <th>96</th>\n",
       "      <td>25</td>\n",
       "    </tr>\n",
       "  </tbody>\n",
       "</table>\n",
       "</div>"
      ],
      "text/plain": [
       "    Qtde_acertos\n",
       "5             24\n",
       "8             25\n",
       "9             20\n",
       "12            31\n",
       "15            40\n",
       "17            27\n",
       "18            25\n",
       "20            48\n",
       "21            54\n",
       "22            54\n",
       "28            16\n",
       "29            34\n",
       "35            41\n",
       "39            41\n",
       "40            34\n",
       "69            31\n",
       "72            19\n",
       "73            41\n",
       "74            43\n",
       "83            26\n",
       "84            45\n",
       "87            40\n",
       "92            41\n",
       "94            31\n",
       "96            25"
      ]
     },
     "execution_count": 29,
     "metadata": {},
     "output_type": "execute_result"
    }
   ],
   "source": [
    "# seu código aqui\n",
    "eliminados = total[(df_mat['Qtde_acertos'] == 0) |\n",
    "                   (df_fis['Qtde_acertos'] == 0) |\n",
    "                   (df_qui['Qtde_acertos'] == 0)]\n",
    "eliminados"
   ]
  },
  {
   "cell_type": "code",
   "execution_count": 31,
   "metadata": {},
   "outputs": [
    {
     "data": {
      "text/plain": [
       "Qtde_acertos    25\n",
       "dtype: int64"
      ]
     },
     "execution_count": 31,
     "metadata": {},
     "output_type": "execute_result"
    }
   ],
   "source": [
    "# contagem dos alunos eliminados\n",
    "\n",
    "eliminados.count()"
   ]
  },
  {
   "cell_type": "code",
   "execution_count": 60,
   "metadata": {},
   "outputs": [
    {
     "name": "stdout",
     "output_type": "stream",
     "text": [
      "A média em história dos alunos eliminados é Qtde_acertos    3.4\n",
      "dtype: float64\n",
      "A média em geografia dos alunos eliminados é Qtde_acertos    3.48\n",
      "dtype: float64\n"
     ]
    }
   ],
   "source": [
    "# selecionando os alunos eliminados\n",
    "eliminados.index\n",
    "\n",
    "# média da nota em história dos alunos eliminados\n",
    "print(f'A média em história dos alunos eliminados é {df_his.loc[eliminados.index].mean()}')\n",
    "\n",
    "\n",
    "# média da nota em geografia dos alunos eliminados\n",
    "print(f'A média em geografia dos alunos eliminados é {df_geo.loc[eliminados.index].mean()}')\n"
   ]
  },
  {
   "cell_type": "markdown",
   "metadata": {},
   "source": [
    "## 3) Vacinações no Acre\n",
    "Vamos trabalhar agora com a base de vacinações no Acre. Para facilitar a sua vida, copiamos o link do arquivo na célula abaixo.\n",
    "\n",
    "1. Quantas vacinas estão registradas nessa base?  \n",
    "2. Quantos pacientes foram vacinados? (considere um paciente para cada valor único de ```paciente_id```)  \n",
    "3. Quantos pacientes únicos tomaram a primeira dose? OBS: Há um caractere especial neste campo. Receba os valores do campo com o método ```.unique()```.   \n",
    "4. Quantos pacientes com menos de 18 anos foram vacinados?  \n",
    "5. Quantos estabelecimentos aplicaram vacina no Acre?\n",
    "\n",
    "\n",
    "**OBS:** O portal do DATASUS pode apresentar instabilidades, retornando um erro na segunda célula abaixo. Por este motivo está disponível uma base estática, que se for baixada para o seu *working directory* pode ser lida com este comando: ```df = pd.read_csv('registros de vacinacao covid ACRE.csv', sep=';')```.\n",
    "\n",
    "**OBS2:** Para saber qual é o seu working directory, rode no jupyter: ```!pwd```."
   ]
  },
  {
   "cell_type": "code",
   "execution_count": 69,
   "metadata": {},
   "outputs": [
    {
     "data": {
      "text/html": [
       "<div>\n",
       "<style scoped>\n",
       "    .dataframe tbody tr th:only-of-type {\n",
       "        vertical-align: middle;\n",
       "    }\n",
       "\n",
       "    .dataframe tbody tr th {\n",
       "        vertical-align: top;\n",
       "    }\n",
       "\n",
       "    .dataframe thead th {\n",
       "        text-align: right;\n",
       "    }\n",
       "</style>\n",
       "<table border=\"1\" class=\"dataframe\">\n",
       "  <thead>\n",
       "    <tr style=\"text-align: right;\">\n",
       "      <th></th>\n",
       "      <th>document_id</th>\n",
       "      <th>paciente_id</th>\n",
       "      <th>paciente_idade</th>\n",
       "      <th>paciente_datanascimento</th>\n",
       "      <th>paciente_enumsexobiologico</th>\n",
       "      <th>paciente_racacor_codigo</th>\n",
       "      <th>paciente_racacor_valor</th>\n",
       "      <th>paciente_endereco_coibgemunicipio</th>\n",
       "      <th>paciente_endereco_copais</th>\n",
       "      <th>paciente_endereco_nmmunicipio</th>\n",
       "      <th>...</th>\n",
       "      <th>vacina_lote</th>\n",
       "      <th>vacina_fabricante_nome</th>\n",
       "      <th>vacina_fabricante_referencia</th>\n",
       "      <th>vacina_dataaplicacao</th>\n",
       "      <th>vacina_descricao_dose</th>\n",
       "      <th>vacina_codigo</th>\n",
       "      <th>vacina_nome</th>\n",
       "      <th>sistema_origem</th>\n",
       "      <th>data_importacao_rnds</th>\n",
       "      <th>id_sistema_origem</th>\n",
       "    </tr>\n",
       "  </thead>\n",
       "  <tbody>\n",
       "    <tr>\n",
       "      <th>0</th>\n",
       "      <td>b19cd280-474c-4c22-a35d-8c06bc04a4e0-i0b0</td>\n",
       "      <td>2e091c9a37d3f50d1d705fc80c6448c6fc69b44da9e936...</td>\n",
       "      <td>69</td>\n",
       "      <td>1951-12-28</td>\n",
       "      <td>F</td>\n",
       "      <td>3</td>\n",
       "      <td>PARDA</td>\n",
       "      <td>120050.0</td>\n",
       "      <td>10.0</td>\n",
       "      <td>SENA MADUREIRA</td>\n",
       "      <td>...</td>\n",
       "      <td>210052A</td>\n",
       "      <td>FUNDACAO BUTANTAN</td>\n",
       "      <td>Organization/61189445000156</td>\n",
       "      <td>2021-03-23</td>\n",
       "      <td>1ª Dose</td>\n",
       "      <td>86</td>\n",
       "      <td>Covid-19-Coronavac-Sinovac/Butantan</td>\n",
       "      <td>Novo PNI</td>\n",
       "      <td>2021-03-25T03:27:19.000Z</td>\n",
       "      <td>NaN</td>\n",
       "    </tr>\n",
       "    <tr>\n",
       "      <th>1</th>\n",
       "      <td>a1acc0b6-1cf6-4c4b-adcb-06b473a0faaf-i0b0</td>\n",
       "      <td>f4e17a9e5354cb45e223d85eda02fb2f76048c801675f5...</td>\n",
       "      <td>81</td>\n",
       "      <td>1939-11-22</td>\n",
       "      <td>M</td>\n",
       "      <td>3</td>\n",
       "      <td>PARDA</td>\n",
       "      <td>120040.0</td>\n",
       "      <td>10.0</td>\n",
       "      <td>RIO BRANCO</td>\n",
       "      <td>...</td>\n",
       "      <td>210110</td>\n",
       "      <td>FUNDACAO BUTANTAN</td>\n",
       "      <td>Organization/61189445000156</td>\n",
       "      <td>2021-04-29</td>\n",
       "      <td>2ª Dose</td>\n",
       "      <td>86</td>\n",
       "      <td>Covid-19-Coronavac-Sinovac/Butantan</td>\n",
       "      <td>Novo PNI</td>\n",
       "      <td>2021-04-30T16:03:14.000Z</td>\n",
       "      <td>NaN</td>\n",
       "    </tr>\n",
       "    <tr>\n",
       "      <th>2</th>\n",
       "      <td>af279a98-ba1f-47ea-8214-314a98040b0d-i0b0</td>\n",
       "      <td>6734b26bccf826130ebffa66575977bbe71477b12bcf42...</td>\n",
       "      <td>69</td>\n",
       "      <td>1951-08-14</td>\n",
       "      <td>M</td>\n",
       "      <td>4</td>\n",
       "      <td>AMARELA</td>\n",
       "      <td>120020.0</td>\n",
       "      <td>10.0</td>\n",
       "      <td>CRUZEIRO DO SUL</td>\n",
       "      <td>...</td>\n",
       "      <td>210135</td>\n",
       "      <td>FUNDACAO BUTANTAN</td>\n",
       "      <td>Organization/61189445000156</td>\n",
       "      <td>2021-04-16</td>\n",
       "      <td>1ª Dose</td>\n",
       "      <td>86</td>\n",
       "      <td>Covid-19-Coronavac-Sinovac/Butantan</td>\n",
       "      <td>Novo PNI</td>\n",
       "      <td>2021-04-16T15:54:39.000Z</td>\n",
       "      <td>NaN</td>\n",
       "    </tr>\n",
       "    <tr>\n",
       "      <th>3</th>\n",
       "      <td>4879308e-5050-46bb-b8e2-11fa5646a05c-i0b0</td>\n",
       "      <td>84a341fd350c1ba7117fccbb4d2df417bc0fac0fffac37...</td>\n",
       "      <td>51</td>\n",
       "      <td>1969-12-15</td>\n",
       "      <td>F</td>\n",
       "      <td>3</td>\n",
       "      <td>PARDA</td>\n",
       "      <td>120040.0</td>\n",
       "      <td>10.0</td>\n",
       "      <td>RIO BRANCO</td>\n",
       "      <td>...</td>\n",
       "      <td>202010040</td>\n",
       "      <td>FUNDACAO BUTANTAN</td>\n",
       "      <td>Organization/61189445000156</td>\n",
       "      <td>2021-02-19</td>\n",
       "      <td>2ª Dose</td>\n",
       "      <td>86</td>\n",
       "      <td>Covid-19-Coronavac-Sinovac/Butantan</td>\n",
       "      <td>Novo PNI</td>\n",
       "      <td>2021-03-10T14:40:54.000Z</td>\n",
       "      <td>NaN</td>\n",
       "    </tr>\n",
       "    <tr>\n",
       "      <th>4</th>\n",
       "      <td>000e911b-e3a4-4114-a735-d1f2e6e3797f-i0b0</td>\n",
       "      <td>c59571e19f368d4b0cf08cd3bcabb32e5cd8baad5340f6...</td>\n",
       "      <td>65</td>\n",
       "      <td>1955-11-21</td>\n",
       "      <td>M</td>\n",
       "      <td>3</td>\n",
       "      <td>PARDA</td>\n",
       "      <td>120040.0</td>\n",
       "      <td>10.0</td>\n",
       "      <td>RIO BRANCO</td>\n",
       "      <td>...</td>\n",
       "      <td>212VCD001ZVB</td>\n",
       "      <td>FUNDACAO OSWALDO CRUZ</td>\n",
       "      <td>Organization/33781055000135</td>\n",
       "      <td>2021-03-29</td>\n",
       "      <td>1ª Dose</td>\n",
       "      <td>85</td>\n",
       "      <td>Vacina Covid-19 - Covishield</td>\n",
       "      <td>Novo PNI</td>\n",
       "      <td>2021-04-03T19:44:28.000Z</td>\n",
       "      <td>NaN</td>\n",
       "    </tr>\n",
       "  </tbody>\n",
       "</table>\n",
       "<p>5 rows × 34 columns</p>\n",
       "</div>"
      ],
      "text/plain": [
       "                                 document_id  \\\n",
       "0  b19cd280-474c-4c22-a35d-8c06bc04a4e0-i0b0   \n",
       "1  a1acc0b6-1cf6-4c4b-adcb-06b473a0faaf-i0b0   \n",
       "2  af279a98-ba1f-47ea-8214-314a98040b0d-i0b0   \n",
       "3  4879308e-5050-46bb-b8e2-11fa5646a05c-i0b0   \n",
       "4  000e911b-e3a4-4114-a735-d1f2e6e3797f-i0b0   \n",
       "\n",
       "                                         paciente_id  paciente_idade  \\\n",
       "0  2e091c9a37d3f50d1d705fc80c6448c6fc69b44da9e936...              69   \n",
       "1  f4e17a9e5354cb45e223d85eda02fb2f76048c801675f5...              81   \n",
       "2  6734b26bccf826130ebffa66575977bbe71477b12bcf42...              69   \n",
       "3  84a341fd350c1ba7117fccbb4d2df417bc0fac0fffac37...              51   \n",
       "4  c59571e19f368d4b0cf08cd3bcabb32e5cd8baad5340f6...              65   \n",
       "\n",
       "  paciente_datanascimento paciente_enumsexobiologico  paciente_racacor_codigo  \\\n",
       "0              1951-12-28                          F                        3   \n",
       "1              1939-11-22                          M                        3   \n",
       "2              1951-08-14                          M                        4   \n",
       "3              1969-12-15                          F                        3   \n",
       "4              1955-11-21                          M                        3   \n",
       "\n",
       "  paciente_racacor_valor  paciente_endereco_coibgemunicipio  \\\n",
       "0                  PARDA                           120050.0   \n",
       "1                  PARDA                           120040.0   \n",
       "2                AMARELA                           120020.0   \n",
       "3                  PARDA                           120040.0   \n",
       "4                  PARDA                           120040.0   \n",
       "\n",
       "   paciente_endereco_copais paciente_endereco_nmmunicipio  ...   vacina_lote  \\\n",
       "0                      10.0                SENA MADUREIRA  ...       210052A   \n",
       "1                      10.0                    RIO BRANCO  ...        210110   \n",
       "2                      10.0               CRUZEIRO DO SUL  ...        210135   \n",
       "3                      10.0                    RIO BRANCO  ...     202010040   \n",
       "4                      10.0                    RIO BRANCO  ...  212VCD001ZVB   \n",
       "\n",
       "  vacina_fabricante_nome  vacina_fabricante_referencia vacina_dataaplicacao  \\\n",
       "0      FUNDACAO BUTANTAN   Organization/61189445000156           2021-03-23   \n",
       "1      FUNDACAO BUTANTAN   Organization/61189445000156           2021-04-29   \n",
       "2      FUNDACAO BUTANTAN   Organization/61189445000156           2021-04-16   \n",
       "3      FUNDACAO BUTANTAN   Organization/61189445000156           2021-02-19   \n",
       "4  FUNDACAO OSWALDO CRUZ   Organization/33781055000135           2021-03-29   \n",
       "\n",
       "   vacina_descricao_dose vacina_codigo                          vacina_nome  \\\n",
       "0                1ª Dose            86  Covid-19-Coronavac-Sinovac/Butantan   \n",
       "1                2ª Dose            86  Covid-19-Coronavac-Sinovac/Butantan   \n",
       "2                1ª Dose            86  Covid-19-Coronavac-Sinovac/Butantan   \n",
       "3                2ª Dose            86  Covid-19-Coronavac-Sinovac/Butantan   \n",
       "4                1ª Dose            85         Vacina Covid-19 - Covishield   \n",
       "\n",
       "   sistema_origem      data_importacao_rnds id_sistema_origem  \n",
       "0        Novo PNI  2021-03-25T03:27:19.000Z               NaN  \n",
       "1        Novo PNI  2021-04-30T16:03:14.000Z               NaN  \n",
       "2        Novo PNI  2021-04-16T15:54:39.000Z               NaN  \n",
       "3        Novo PNI  2021-03-10T14:40:54.000Z               NaN  \n",
       "4        Novo PNI  2021-04-03T19:44:28.000Z               NaN  \n",
       "\n",
       "[5 rows x 34 columns]"
      ]
     },
     "execution_count": 69,
     "metadata": {},
     "output_type": "execute_result"
    }
   ],
   "source": [
    "df = pd.read_csv('ACRE.csv', sep=';')\n",
    "df.head(5)\n"
   ]
  },
  {
   "cell_type": "code",
   "execution_count": 66,
   "metadata": {},
   "outputs": [
    {
     "data": {
      "text/plain": [
       "<bound method DataFrame.info of                                       document_id  \\\n",
       "0       b19cd280-474c-4c22-a35d-8c06bc04a4e0-i0b0   \n",
       "1       a1acc0b6-1cf6-4c4b-adcb-06b473a0faaf-i0b0   \n",
       "2       af279a98-ba1f-47ea-8214-314a98040b0d-i0b0   \n",
       "3       4879308e-5050-46bb-b8e2-11fa5646a05c-i0b0   \n",
       "4       000e911b-e3a4-4114-a735-d1f2e6e3797f-i0b0   \n",
       "...                                           ...   \n",
       "169066  1d8f6ea9-d3f5-4882-9fe4-9d2f3ef88d77-i0b0   \n",
       "169067  77ff98a4-79fb-47c9-aafa-8bf45708c4bc-i0b0   \n",
       "169068  1da067bc-9989-4fa4-8838-e1e40cdfeebf-i0b0   \n",
       "169069  eacc22e0-6f78-460f-a8e7-d85c6129951e-i0b0   \n",
       "169070  02795bd0-b1a7-49c1-83ca-90a9f9b4b794-i0b0   \n",
       "\n",
       "                                              paciente_id  paciente_idade  \\\n",
       "0       2e091c9a37d3f50d1d705fc80c6448c6fc69b44da9e936...              69   \n",
       "1       f4e17a9e5354cb45e223d85eda02fb2f76048c801675f5...              81   \n",
       "2       6734b26bccf826130ebffa66575977bbe71477b12bcf42...              69   \n",
       "3       84a341fd350c1ba7117fccbb4d2df417bc0fac0fffac37...              51   \n",
       "4       c59571e19f368d4b0cf08cd3bcabb32e5cd8baad5340f6...              65   \n",
       "...                                                   ...             ...   \n",
       "169066  8048cb43bf62574837987f9351325ab06d3bc3884ee2f7...              25   \n",
       "169067  0548218b49585839b8f83c202bccac61f6a9c48cc1ea94...              68   \n",
       "169068  de5f1131ff4f954cfb28ebdcb964b6e25e83620ce9df49...              65   \n",
       "169069  fd1fb8d6e5de6eceeb7bb8246243d3c5cf85cdca01d849...              76   \n",
       "169070  a22dbf631ad78dc6961100cbd6ec5f12ee80cd25148d84...              81   \n",
       "\n",
       "       paciente_datanascimento paciente_enumsexobiologico  \\\n",
       "0                   1951-12-28                          F   \n",
       "1                   1939-11-22                          M   \n",
       "2                   1951-08-14                          M   \n",
       "3                   1969-12-15                          F   \n",
       "4                   1955-11-21                          M   \n",
       "...                        ...                        ...   \n",
       "169066              1995-02-05                          F   \n",
       "169067              1953-02-03                          M   \n",
       "169068              1955-06-05                          M   \n",
       "169069              1944-06-15                          F   \n",
       "169070              1939-08-08                          M   \n",
       "\n",
       "        paciente_racacor_codigo paciente_racacor_valor  \\\n",
       "0                             3                  PARDA   \n",
       "1                             3                  PARDA   \n",
       "2                             4                AMARELA   \n",
       "3                             3                  PARDA   \n",
       "4                             3                  PARDA   \n",
       "...                         ...                    ...   \n",
       "169066                        5               INDIGENA   \n",
       "169067                        4                AMARELA   \n",
       "169068                        2                  PRETA   \n",
       "169069                        1                 BRANCA   \n",
       "169070                        3                  PARDA   \n",
       "\n",
       "        paciente_endereco_coibgemunicipio  paciente_endereco_copais  \\\n",
       "0                                120050.0                      10.0   \n",
       "1                                120040.0                      10.0   \n",
       "2                                120020.0                      10.0   \n",
       "3                                120040.0                      10.0   \n",
       "4                                120040.0                      10.0   \n",
       "...                                   ...                       ...   \n",
       "169066                           120035.0                      10.0   \n",
       "169067                           120040.0                      10.0   \n",
       "169068                           120017.0                      10.0   \n",
       "169069                           120040.0                      10.0   \n",
       "169070                           120040.0                      10.0   \n",
       "\n",
       "       paciente_endereco_nmmunicipio  ...   vacina_lote  \\\n",
       "0                     SENA MADUREIRA  ...       210052A   \n",
       "1                         RIO BRANCO  ...        210110   \n",
       "2                    CRUZEIRO DO SUL  ...        210135   \n",
       "3                         RIO BRANCO  ...     202010040   \n",
       "4                         RIO BRANCO  ...  212VCD001ZVB   \n",
       "...                              ...  ...           ...   \n",
       "169066          MARECHAL THAUMATURGO  ...     202010028   \n",
       "169067                    RIO BRANCO  ...  212VCD001ZVB   \n",
       "169068                      CAPIXABA  ...        210077   \n",
       "169069                    RIO BRANCO  ...      4120Z025   \n",
       "169070                    RIO BRANCO  ...      4120Z025   \n",
       "\n",
       "       vacina_fabricante_nome  vacina_fabricante_referencia  \\\n",
       "0           FUNDACAO BUTANTAN   Organization/61189445000156   \n",
       "1           FUNDACAO BUTANTAN   Organization/61189445000156   \n",
       "2           FUNDACAO BUTANTAN   Organization/61189445000156   \n",
       "3           FUNDACAO BUTANTAN   Organization/61189445000156   \n",
       "4       FUNDACAO OSWALDO CRUZ   Organization/33781055000135   \n",
       "...                       ...                           ...   \n",
       "169066      FUNDACAO BUTANTAN   Organization/61189445000156   \n",
       "169067  FUNDACAO OSWALDO CRUZ   Organization/33781055000135   \n",
       "169068      FUNDACAO BUTANTAN   Organization/61189445000156   \n",
       "169069  FUNDACAO OSWALDO CRUZ   Organization/33781055000135   \n",
       "169070  FUNDACAO OSWALDO CRUZ   Organization/33781055000135   \n",
       "\n",
       "       vacina_dataaplicacao  vacina_descricao_dose vacina_codigo  \\\n",
       "0                2021-03-23                1ª Dose            86   \n",
       "1                2021-04-29                2ª Dose            86   \n",
       "2                2021-04-16                1ª Dose            86   \n",
       "3                2021-02-19                2ª Dose            86   \n",
       "4                2021-03-29                1ª Dose            85   \n",
       "...                     ...                    ...           ...   \n",
       "169066           2021-01-26                1ª Dose            86   \n",
       "169067           2021-03-25                1ª Dose            85   \n",
       "169068           2021-03-30                1ª Dose            86   \n",
       "169069           2021-02-26                1ª Dose            85   \n",
       "169070           2021-02-27                1ª Dose            85   \n",
       "\n",
       "                                vacina_nome  sistema_origem  \\\n",
       "0       Covid-19-Coronavac-Sinovac/Butantan        Novo PNI   \n",
       "1       Covid-19-Coronavac-Sinovac/Butantan        Novo PNI   \n",
       "2       Covid-19-Coronavac-Sinovac/Butantan        Novo PNI   \n",
       "3       Covid-19-Coronavac-Sinovac/Butantan        Novo PNI   \n",
       "4              Vacina Covid-19 - Covishield        Novo PNI   \n",
       "...                                     ...             ...   \n",
       "169066  Covid-19-Coronavac-Sinovac/Butantan        Novo PNI   \n",
       "169067         Vacina Covid-19 - Covishield        Novo PNI   \n",
       "169068  Covid-19-Coronavac-Sinovac/Butantan        Novo PNI   \n",
       "169069         Vacina Covid-19 - Covishield        Novo PNI   \n",
       "169070         Vacina Covid-19 - Covishield        Novo PNI   \n",
       "\n",
       "            data_importacao_rnds id_sistema_origem  \n",
       "0       2021-03-25T03:27:19.000Z               NaN  \n",
       "1       2021-04-30T16:03:14.000Z               NaN  \n",
       "2       2021-04-16T15:54:39.000Z               NaN  \n",
       "3       2021-03-10T14:40:54.000Z               NaN  \n",
       "4       2021-04-03T19:44:28.000Z               NaN  \n",
       "...                          ...               ...  \n",
       "169066  2021-02-03T19:13:58.000Z               NaN  \n",
       "169067  2021-04-03T21:20:19.000Z               NaN  \n",
       "169068  2021-03-31T20:38:55.000Z               NaN  \n",
       "169069  2021-02-27T23:41:11.000Z               NaN  \n",
       "169070  2021-03-15T14:27:07.000Z               NaN  \n",
       "\n",
       "[169071 rows x 34 columns]>"
      ]
     },
     "execution_count": 66,
     "metadata": {},
     "output_type": "execute_result"
    }
   ],
   "source": [
    "# 1) podemos verificar que o há 169070 registros de vacinação\n",
    "df.info"
   ]
  },
  {
   "cell_type": "code",
   "execution_count": 73,
   "metadata": {},
   "outputs": [
    {
     "data": {
      "text/plain": [
       "120517"
      ]
     },
     "execution_count": 73,
     "metadata": {},
     "output_type": "execute_result"
    }
   ],
   "source": [
    "# 2)\n",
    "# utilizamos a função \"nunique\" para contar os valores únicos da coluna paciente_id\n",
    "df['paciente_id'].nunique()"
   ]
  },
  {
   "cell_type": "code",
   "execution_count": 75,
   "metadata": {},
   "outputs": [
    {
     "data": {
      "text/plain": [
       "array(['\\xa0\\xa0\\xa0\\xa01ª\\xa0Dose', '\\xa0\\xa0\\xa0\\xa02ª\\xa0Dose',\n",
       "       '\\xa0\\xa0\\xa0\\xa0Dose\\xa0'], dtype=object)"
      ]
     },
     "execution_count": 75,
     "metadata": {},
     "output_type": "execute_result"
    }
   ],
   "source": [
    "# 3) \n",
    "df['vacina_descricao_dose'].unique()"
   ]
  },
  {
   "cell_type": "code",
   "execution_count": 57,
   "metadata": {},
   "outputs": [
    {
     "data": {
      "text/plain": [
       "125009"
      ]
     },
     "execution_count": 57,
     "metadata": {},
     "output_type": "execute_result"
    }
   ],
   "source": [
    "# 2) \n"
   ]
  },
  {
   "cell_type": "code",
   "execution_count": 70,
   "metadata": {},
   "outputs": [
    {
     "data": {
      "text/plain": [
       "124185"
      ]
     },
     "execution_count": 70,
     "metadata": {},
     "output_type": "execute_result"
    }
   ],
   "source": [
    "# 3) \n"
   ]
  },
  {
   "cell_type": "code",
   "execution_count": 72,
   "metadata": {},
   "outputs": [
    {
     "data": {
      "text/plain": [
       "124185"
      ]
     },
     "execution_count": 72,
     "metadata": {},
     "output_type": "execute_result"
    }
   ],
   "source": [
    "# 3) solução alternativa\n"
   ]
  },
  {
   "cell_type": "code",
   "execution_count": 79,
   "metadata": {},
   "outputs": [
    {
     "data": {
      "text/plain": [
       "49"
      ]
     },
     "execution_count": 79,
     "metadata": {},
     "output_type": "execute_result"
    }
   ],
   "source": [
    "# 4) \n"
   ]
  },
  {
   "cell_type": "code",
   "execution_count": 84,
   "metadata": {},
   "outputs": [
    {
     "data": {
      "text/plain": [
       "42"
      ]
     },
     "execution_count": 84,
     "metadata": {},
     "output_type": "execute_result"
    }
   ],
   "source": [
    "# 5)\n"
   ]
  },
  {
   "cell_type": "markdown",
   "metadata": {},
   "source": [
    "## 4) Vacinação II\n",
    "Gere um *DataFrame* que contenha somente os estabelecimentos que aplicaram vcinas a menores de 18 anos. Nesse *DataFrame* devem conter somente os dados dos estabelecimentos, mais uma coluna sendo a quantidade de vacinas que o estabelecimento aplicou a menores de 18 anos.  \n",
    "  \n",
    "1. crie uma cópia do *DataFrame* original, contendo somente os registros de vacinas realizadas a menores de 18 anos.  \n",
    "2. crie uma lista das colunas desse *DataFrame* com o atributo de *DataFrame* **.columns()**  \n",
    "3. Nesse *DataFrame* faça uma contagem do campo ```vacina_categoria_nome```.\n",
    "3. a partir da lista de colunas, escolha somente aquelas que são referentes ao estabelecimento, faça uma lista com esses valores.  \n",
    "4. usando o método *.loc*, selecione somente essas variáveis  \n",
    "5. Aplique o método **.drop_duplicates** e crie uma lista com uma linha para cada estabelecimento, com os dados do estabelecimento  "
   ]
  },
  {
   "cell_type": "code",
   "execution_count": 101,
   "metadata": {},
   "outputs": [],
   "source": [
    "# 1) \n"
   ]
  },
  {
   "cell_type": "code",
   "execution_count": 102,
   "metadata": {},
   "outputs": [
    {
     "data": {
      "text/plain": [
       "Index(['document_id', 'paciente_id', 'paciente_idade',\n",
       "       'paciente_datanascimento', 'paciente_enumsexobiologico',\n",
       "       'paciente_racacor_codigo', 'paciente_racacor_valor',\n",
       "       'paciente_endereco_coibgemunicipio', 'paciente_endereco_copais',\n",
       "       'paciente_endereco_nmmunicipio', 'paciente_endereco_nmpais',\n",
       "       'paciente_endereco_uf', 'paciente_endereco_cep',\n",
       "       'paciente_nacionalidade_enumnacionalidade', 'estabelecimento_valor',\n",
       "       'estabelecimento_razaosocial', 'estalecimento_nofantasia',\n",
       "       'estabelecimento_municipio_codigo', 'estabelecimento_municipio_nome',\n",
       "       'estabelecimento_uf', 'vacina_grupoatendimento_codigo',\n",
       "       'vacina_grupoatendimento_nome', 'vacina_categoria_codigo',\n",
       "       'vacina_categoria_nome', 'vacina_lote', 'vacina_fabricante_nome',\n",
       "       'vacina_fabricante_referencia', 'vacina_dataaplicacao',\n",
       "       'vacina_descricao_dose', 'vacina_codigo', 'vacina_nome',\n",
       "       'sistema_origem', 'data_importacao_rnds', 'id_sistema_origem'],\n",
       "      dtype='object')"
      ]
     },
     "execution_count": 102,
     "metadata": {},
     "output_type": "execute_result"
    }
   ],
   "source": [
    "# 2) \n"
   ]
  },
  {
   "cell_type": "code",
   "execution_count": 104,
   "metadata": {},
   "outputs": [
    {
     "data": {
      "text/plain": [
       "Povos Indígenas                     33\n",
       "Povos e Comunidades Tradicionais     9\n",
       "Trabalhadores de Saúde               9\n",
       "Comorbidades                         2\n",
       "Faixa Etária                         1\n",
       "Name: vacina_categoria_nome, dtype: int64"
      ]
     },
     "execution_count": 104,
     "metadata": {},
     "output_type": "execute_result"
    }
   ],
   "source": [
    "# 3)\n"
   ]
  },
  {
   "cell_type": "code",
   "execution_count": 118,
   "metadata": {},
   "outputs": [],
   "source": [
    "# 4)\n"
   ]
  },
  {
   "cell_type": "code",
   "execution_count": 1,
   "metadata": {},
   "outputs": [],
   "source": [
    "# 5)\n"
   ]
  },
  {
   "cell_type": "code",
   "execution_count": null,
   "metadata": {},
   "outputs": [],
   "source": []
  }
 ],
 "metadata": {
  "kernelspec": {
   "display_name": "Python 3 (ipykernel)",
   "language": "python",
   "name": "python3"
  },
  "language_info": {
   "codemirror_mode": {
    "name": "ipython",
    "version": 3
   },
   "file_extension": ".py",
   "mimetype": "text/x-python",
   "name": "python",
   "nbconvert_exporter": "python",
   "pygments_lexer": "ipython3",
   "version": "3.11.3"
  },
  "toc": {
   "base_numbering": 1,
   "nav_menu": {},
   "number_sections": false,
   "sideBar": true,
   "skip_h1_title": true,
   "title_cell": "Índice",
   "title_sidebar": "Conteúdo",
   "toc_cell": false,
   "toc_position": {},
   "toc_section_display": true,
   "toc_window_display": false
  },
  "varInspector": {
   "cols": {
    "lenName": 16,
    "lenType": 16,
    "lenVar": 40
   },
   "kernels_config": {
    "python": {
     "delete_cmd_postfix": "",
     "delete_cmd_prefix": "del ",
     "library": "var_list.py",
     "varRefreshCmd": "print(var_dic_list())"
    },
    "r": {
     "delete_cmd_postfix": ") ",
     "delete_cmd_prefix": "rm(",
     "library": "var_list.r",
     "varRefreshCmd": "cat(var_dic_list()) "
    }
   },
   "types_to_exclude": [
    "module",
    "function",
    "builtin_function_or_method",
    "instance",
    "_Feature"
   ],
   "window_display": false
  }
 },
 "nbformat": 4,
 "nbformat_minor": 4
}
