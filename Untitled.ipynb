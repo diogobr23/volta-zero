{
 "cells": [
  {
   "cell_type": "code",
   "execution_count": 1,
   "id": "b605b216",
   "metadata": {},
   "outputs": [
    {
     "data": {
      "text/plain": [
       "2"
      ]
     },
     "execution_count": 1,
     "metadata": {},
     "output_type": "execute_result"
    }
   ],
   "source": [
    "1+1\n"
   ]
  },
  {
   "cell_type": "code",
   "execution_count": 2,
   "id": "7f1c14e8",
   "metadata": {},
   "outputs": [
    {
     "data": {
      "text/plain": [
       "144"
      ]
     },
     "execution_count": 2,
     "metadata": {},
     "output_type": "execute_result"
    }
   ],
   "source": [
    "12**2\n"
   ]
  },
  {
   "cell_type": "markdown",
   "id": "a8c3922c",
   "metadata": {},
   "source": [
    "Exemplo de texto em *Markdown*"
   ]
  },
  {
   "cell_type": "markdown",
   "id": "a7d9b4a4",
   "metadata": {},
   "source": [
    "# Exemplo de título\n",
    "Célula de título em *Markdown*"
   ]
  },
  {
   "cell_type": "code",
   "execution_count": null,
   "id": "44ae3ec8",
   "metadata": {},
   "outputs": [],
   "source": []
  }
 ],
 "metadata": {
  "kernelspec": {
   "display_name": "Python 3 (ipykernel)",
   "language": "python",
   "name": "python3"
  },
  "language_info": {
   "codemirror_mode": {
    "name": "ipython",
    "version": 3
   },
   "file_extension": ".py",
   "mimetype": "text/x-python",
   "name": "python",
   "nbconvert_exporter": "python",
   "pygments_lexer": "ipython3",
   "version": "3.11.3"
  }
 },
 "nbformat": 4,
 "nbformat_minor": 5
}
